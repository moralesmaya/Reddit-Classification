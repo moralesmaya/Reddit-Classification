{
 "cells": [
  {
   "cell_type": "markdown",
   "metadata": {},
   "source": [
    "## Analyzing language across Feminist and Men's Rights subreddits"
   ]
  },
  {
   "cell_type": "markdown",
   "metadata": {},
   "source": [
    "Notebook 1, of 4. Building classification models to differentiate between different subreddits. "
   ]
  },
  {
   "cell_type": "code",
   "execution_count": 1,
   "metadata": {},
   "outputs": [],
   "source": [
    "#Imports \n",
    "\n",
    "import requests\n",
    "import pandas as pd\n",
    "import numpy as np\n",
    "import nltk\n",
    "import time"
   ]
  },
  {
   "cell_type": "markdown",
   "metadata": {},
   "source": [
    "### Scraping  Mens rights (r/MensRights)"
   ]
  },
  {
   "cell_type": "code",
   "execution_count": 2,
   "metadata": {},
   "outputs": [],
   "source": [
    "men_url = \"http://reddit.com/r/MensRights.json\" \n",
    "user_agent  = {\"user-agent\": \"maya\"}                    "
   ]
  },
  {
   "cell_type": "code",
   "execution_count": 3,
   "metadata": {},
   "outputs": [],
   "source": [
    "api = 'https://api.pushshift.io/reddit/search/submission'"
   ]
  },
  {
   "cell_type": "code",
   "execution_count": 4,
   "metadata": {},
   "outputs": [],
   "source": [
    "men_params = {\n",
    "    'subreddit' : 'MensRights',\n",
    "    'size' : 100,\n",
    "   \n",
    "}"
   ]
  },
  {
   "cell_type": "code",
   "execution_count": 5,
   "metadata": {},
   "outputs": [
    {
     "data": {
      "text/plain": [
       "200"
      ]
     },
     "execution_count": 5,
     "metadata": {},
     "output_type": "execute_result"
    }
   ],
   "source": [
    "men_res  = requests.get(url = api, params = men_params, headers = user_agent)\n",
    "men_res.status_code"
   ]
  },
  {
   "cell_type": "code",
   "execution_count": 6,
   "metadata": {
    "scrolled": false
   },
   "outputs": [],
   "source": [
    "men_data = men_res.json()"
   ]
  },
  {
   "cell_type": "code",
   "execution_count": 7,
   "metadata": {},
   "outputs": [],
   "source": [
    "mr = pd.DataFrame(men_data['data'])"
   ]
  },
  {
   "cell_type": "code",
   "execution_count": 8,
   "metadata": {},
   "outputs": [
    {
     "name": "stdout",
     "output_type": "stream",
     "text": [
      "1611579572\n"
     ]
    }
   ],
   "source": [
    "utc = mr.iloc[-1]['created_utc']\n",
    "print(utc)"
   ]
  },
  {
   "cell_type": "code",
   "execution_count": 9,
   "metadata": {},
   "outputs": [
    {
     "name": "stdout",
     "output_type": "stream",
     "text": [
      "(200, 80)\n",
      "(300, 80)\n",
      "(400, 80)\n",
      "(500, 80)\n",
      "(600, 81)\n",
      "(700, 81)\n",
      "(800, 81)\n",
      "(900, 81)\n",
      "(1000, 81)\n",
      "(1100, 81)\n",
      "(1200, 81)\n",
      "(1300, 81)\n",
      "(1400, 81)\n",
      "(1500, 81)\n",
      "(1600, 81)\n",
      "(1700, 81)\n",
      "(1800, 81)\n",
      "(1900, 81)\n",
      "(2000, 81)\n",
      "(2100, 81)\n",
      "(2200, 81)\n",
      "(2300, 81)\n",
      "(2400, 81)\n",
      "(2500, 81)\n"
     ]
    }
   ],
   "source": [
    "counter = 1\n",
    "while counter < 25:\n",
    "    params = {\n",
    "        'subreddit': 'MensRights',\n",
    "        'size':100,\n",
    "        'before': utc\n",
    "        }\n",
    "    res = requests.get(api, params)\n",
    "    data = res.json()\n",
    "    data = pd.DataFrame(data['data'])\n",
    "    utc = data.iloc[-1]['created_utc']\n",
    "    mr = pd.concat([mr, data], axis = 0, ignore_index=False )\n",
    "    counter += 1\n",
    "    print(mr.shape) "
   ]
  },
  {
   "cell_type": "code",
   "execution_count": 10,
   "metadata": {},
   "outputs": [
    {
     "name": "stderr",
     "output_type": "stream",
     "text": [
      "<ipython-input-10-c3e82c6a0aad>:3: SettingWithCopyWarning: \n",
      "A value is trying to be set on a copy of a slice from a DataFrame.\n",
      "Try using .loc[row_indexer,col_indexer] = value instead\n",
      "\n",
      "See the caveats in the documentation: https://pandas.pydata.org/pandas-docs/stable/user_guide/indexing.html#returning-a-view-versus-a-copy\n",
      "  men_df['target'] = 0\n"
     ]
    },
    {
     "data": {
      "text/plain": [
       "(2500, 4)"
      ]
     },
     "execution_count": 10,
     "metadata": {},
     "output_type": "execute_result"
    }
   ],
   "source": [
    "men_df = mr[['title','selftext', 'num_comments']]\n",
    "\n",
    "men_df['target'] = 0\n",
    "men_df.shape"
   ]
  },
  {
   "cell_type": "code",
   "execution_count": 11,
   "metadata": {},
   "outputs": [
    {
     "data": {
      "text/plain": [
       "title           0\n",
       "selftext        5\n",
       "num_comments    0\n",
       "target          0\n",
       "dtype: int64"
      ]
     },
     "execution_count": 11,
     "metadata": {},
     "output_type": "execute_result"
    }
   ],
   "source": [
    "men_df.isnull().sum()"
   ]
  },
  {
   "cell_type": "markdown",
   "metadata": {},
   "source": [
    "## Scraping Feminism subreddit (r/Feminism)"
   ]
  },
  {
   "cell_type": "code",
   "execution_count": 12,
   "metadata": {},
   "outputs": [],
   "source": [
    "fem_url =  'https://api.pushshift.io/reddit/search/submission'\n",
    "user_agent  = {\"user-agent\": \"maya_mm\"}                        \n"
   ]
  },
  {
   "cell_type": "code",
   "execution_count": 13,
   "metadata": {},
   "outputs": [],
   "source": [
    "fem_params = {\n",
    "    'subreddit' :'Feminism',\n",
    "    'size' : 100,\n",
    "    'before': 1611730887\n",
    "    #'after': None\n",
    "}"
   ]
  },
  {
   "cell_type": "code",
   "execution_count": 14,
   "metadata": {},
   "outputs": [],
   "source": [
    "fem_res  = requests.get(url = fem_url, params = fem_params, headers = user_agent)"
   ]
  },
  {
   "cell_type": "code",
   "execution_count": 15,
   "metadata": {},
   "outputs": [
    {
     "data": {
      "text/plain": [
       "200"
      ]
     },
     "execution_count": 15,
     "metadata": {},
     "output_type": "execute_result"
    }
   ],
   "source": [
    "fem_res.status_code"
   ]
  },
  {
   "cell_type": "code",
   "execution_count": 16,
   "metadata": {},
   "outputs": [],
   "source": [
    "fem_data = fem_res.json()"
   ]
  },
  {
   "cell_type": "code",
   "execution_count": 17,
   "metadata": {},
   "outputs": [
    {
     "data": {
      "text/html": [
       "<div>\n",
       "<style scoped>\n",
       "    .dataframe tbody tr th:only-of-type {\n",
       "        vertical-align: middle;\n",
       "    }\n",
       "\n",
       "    .dataframe tbody tr th {\n",
       "        vertical-align: top;\n",
       "    }\n",
       "\n",
       "    .dataframe thead th {\n",
       "        text-align: right;\n",
       "    }\n",
       "</style>\n",
       "<table border=\"1\" class=\"dataframe\">\n",
       "  <thead>\n",
       "    <tr style=\"text-align: right;\">\n",
       "      <th></th>\n",
       "      <th>all_awardings</th>\n",
       "      <th>allow_live_comments</th>\n",
       "      <th>author</th>\n",
       "      <th>author_flair_css_class</th>\n",
       "      <th>author_flair_richtext</th>\n",
       "      <th>author_flair_template_id</th>\n",
       "      <th>author_flair_text</th>\n",
       "      <th>author_flair_text_color</th>\n",
       "      <th>author_flair_type</th>\n",
       "      <th>author_fullname</th>\n",
       "      <th>...</th>\n",
       "      <th>secure_media_embed</th>\n",
       "      <th>thumbnail_height</th>\n",
       "      <th>thumbnail_width</th>\n",
       "      <th>url_overridden_by_dest</th>\n",
       "      <th>crosspost_parent</th>\n",
       "      <th>crosspost_parent_list</th>\n",
       "      <th>is_gallery</th>\n",
       "      <th>link_flair_css_class</th>\n",
       "      <th>link_flair_text</th>\n",
       "      <th>author_flair_background_color</th>\n",
       "    </tr>\n",
       "  </thead>\n",
       "  <tbody>\n",
       "    <tr>\n",
       "      <th>0</th>\n",
       "      <td>[]</td>\n",
       "      <td>False</td>\n",
       "      <td>rather_not_</td>\n",
       "      <td>postremoval</td>\n",
       "      <td>[]</td>\n",
       "      <td>73ce0834-7cc4-11e9-b21d-0ebf8761c30c</td>\n",
       "      <td>None</td>\n",
       "      <td>dark</td>\n",
       "      <td>text</td>\n",
       "      <td>t2_9g2jryjv</td>\n",
       "      <td>...</td>\n",
       "      <td>NaN</td>\n",
       "      <td>NaN</td>\n",
       "      <td>NaN</td>\n",
       "      <td>NaN</td>\n",
       "      <td>NaN</td>\n",
       "      <td>NaN</td>\n",
       "      <td>NaN</td>\n",
       "      <td>NaN</td>\n",
       "      <td>NaN</td>\n",
       "      <td>NaN</td>\n",
       "    </tr>\n",
       "    <tr>\n",
       "      <th>1</th>\n",
       "      <td>[]</td>\n",
       "      <td>False</td>\n",
       "      <td>thememelordofRDU</td>\n",
       "      <td>None</td>\n",
       "      <td>[]</td>\n",
       "      <td>NaN</td>\n",
       "      <td>None</td>\n",
       "      <td>NaN</td>\n",
       "      <td>text</td>\n",
       "      <td>t2_s0ieuw7</td>\n",
       "      <td>...</td>\n",
       "      <td>{'content': '&amp;lt;iframe width=\"356\" height=\"20...</td>\n",
       "      <td>105.0</td>\n",
       "      <td>140.0</td>\n",
       "      <td>https://www.youtube.com/watch?v=vCbdTVX1hkE&amp;am...</td>\n",
       "      <td>NaN</td>\n",
       "      <td>NaN</td>\n",
       "      <td>NaN</td>\n",
       "      <td>NaN</td>\n",
       "      <td>NaN</td>\n",
       "      <td>NaN</td>\n",
       "    </tr>\n",
       "    <tr>\n",
       "      <th>2</th>\n",
       "      <td>[]</td>\n",
       "      <td>False</td>\n",
       "      <td>psychresearch23</td>\n",
       "      <td>points-safe</td>\n",
       "      <td>[]</td>\n",
       "      <td>3b2047e8-b105-11e9-93f8-0e7dee6fb2c4</td>\n",
       "      <td>None</td>\n",
       "      <td>dark</td>\n",
       "      <td>text</td>\n",
       "      <td>t2_9k9atgus</td>\n",
       "      <td>...</td>\n",
       "      <td>NaN</td>\n",
       "      <td>NaN</td>\n",
       "      <td>NaN</td>\n",
       "      <td>NaN</td>\n",
       "      <td>NaN</td>\n",
       "      <td>NaN</td>\n",
       "      <td>NaN</td>\n",
       "      <td>NaN</td>\n",
       "      <td>NaN</td>\n",
       "      <td>NaN</td>\n",
       "    </tr>\n",
       "    <tr>\n",
       "      <th>3</th>\n",
       "      <td>[]</td>\n",
       "      <td>False</td>\n",
       "      <td>Stefan_0069</td>\n",
       "      <td>None</td>\n",
       "      <td>[]</td>\n",
       "      <td>NaN</td>\n",
       "      <td>None</td>\n",
       "      <td>NaN</td>\n",
       "      <td>text</td>\n",
       "      <td>t2_12b9dm56</td>\n",
       "      <td>...</td>\n",
       "      <td>NaN</td>\n",
       "      <td>78.0</td>\n",
       "      <td>140.0</td>\n",
       "      <td>https://i.redd.it/llyocq75pnd61.png</td>\n",
       "      <td>t3_l5blyl</td>\n",
       "      <td>[{'all_awardings': [], 'allow_live_comments': ...</td>\n",
       "      <td>NaN</td>\n",
       "      <td>NaN</td>\n",
       "      <td>NaN</td>\n",
       "      <td>NaN</td>\n",
       "    </tr>\n",
       "    <tr>\n",
       "      <th>4</th>\n",
       "      <td>[]</td>\n",
       "      <td>False</td>\n",
       "      <td>sufinomo</td>\n",
       "      <td>None</td>\n",
       "      <td>[]</td>\n",
       "      <td>NaN</td>\n",
       "      <td>None</td>\n",
       "      <td>NaN</td>\n",
       "      <td>text</td>\n",
       "      <td>t2_12rxf6</td>\n",
       "      <td>...</td>\n",
       "      <td>NaN</td>\n",
       "      <td>NaN</td>\n",
       "      <td>NaN</td>\n",
       "      <td>NaN</td>\n",
       "      <td>NaN</td>\n",
       "      <td>NaN</td>\n",
       "      <td>NaN</td>\n",
       "      <td>NaN</td>\n",
       "      <td>NaN</td>\n",
       "      <td>NaN</td>\n",
       "    </tr>\n",
       "  </tbody>\n",
       "</table>\n",
       "<p>5 rows × 75 columns</p>\n",
       "</div>"
      ],
      "text/plain": [
       "  all_awardings  allow_live_comments            author author_flair_css_class  \\\n",
       "0            []                False       rather_not_            postremoval   \n",
       "1            []                False  thememelordofRDU                   None   \n",
       "2            []                False   psychresearch23            points-safe   \n",
       "3            []                False       Stefan_0069                   None   \n",
       "4            []                False          sufinomo                   None   \n",
       "\n",
       "  author_flair_richtext              author_flair_template_id  \\\n",
       "0                    []  73ce0834-7cc4-11e9-b21d-0ebf8761c30c   \n",
       "1                    []                                   NaN   \n",
       "2                    []  3b2047e8-b105-11e9-93f8-0e7dee6fb2c4   \n",
       "3                    []                                   NaN   \n",
       "4                    []                                   NaN   \n",
       "\n",
       "  author_flair_text author_flair_text_color author_flair_type author_fullname  \\\n",
       "0              None                    dark              text     t2_9g2jryjv   \n",
       "1              None                     NaN              text      t2_s0ieuw7   \n",
       "2              None                    dark              text     t2_9k9atgus   \n",
       "3              None                     NaN              text     t2_12b9dm56   \n",
       "4              None                     NaN              text       t2_12rxf6   \n",
       "\n",
       "   ...                                 secure_media_embed thumbnail_height  \\\n",
       "0  ...                                                NaN              NaN   \n",
       "1  ...  {'content': '&lt;iframe width=\"356\" height=\"20...            105.0   \n",
       "2  ...                                                NaN              NaN   \n",
       "3  ...                                                NaN             78.0   \n",
       "4  ...                                                NaN              NaN   \n",
       "\n",
       "  thumbnail_width                             url_overridden_by_dest  \\\n",
       "0             NaN                                                NaN   \n",
       "1           140.0  https://www.youtube.com/watch?v=vCbdTVX1hkE&am...   \n",
       "2             NaN                                                NaN   \n",
       "3           140.0                https://i.redd.it/llyocq75pnd61.png   \n",
       "4             NaN                                                NaN   \n",
       "\n",
       "   crosspost_parent                              crosspost_parent_list  \\\n",
       "0               NaN                                                NaN   \n",
       "1               NaN                                                NaN   \n",
       "2               NaN                                                NaN   \n",
       "3         t3_l5blyl  [{'all_awardings': [], 'allow_live_comments': ...   \n",
       "4               NaN                                                NaN   \n",
       "\n",
       "  is_gallery link_flair_css_class link_flair_text  \\\n",
       "0        NaN                  NaN             NaN   \n",
       "1        NaN                  NaN             NaN   \n",
       "2        NaN                  NaN             NaN   \n",
       "3        NaN                  NaN             NaN   \n",
       "4        NaN                  NaN             NaN   \n",
       "\n",
       "  author_flair_background_color  \n",
       "0                           NaN  \n",
       "1                           NaN  \n",
       "2                           NaN  \n",
       "3                           NaN  \n",
       "4                           NaN  \n",
       "\n",
       "[5 rows x 75 columns]"
      ]
     },
     "execution_count": 17,
     "metadata": {},
     "output_type": "execute_result"
    }
   ],
   "source": [
    "fem = pd.DataFrame(fem_data['data'])\n",
    "\n",
    "fem.head()"
   ]
  },
  {
   "cell_type": "code",
   "execution_count": 18,
   "metadata": {},
   "outputs": [
    {
     "name": "stdout",
     "output_type": "stream",
     "text": [
      "1611513424\n"
     ]
    }
   ],
   "source": [
    "utc = fem.iloc[-1]['created_utc']\n",
    "print(utc)"
   ]
  },
  {
   "cell_type": "code",
   "execution_count": 19,
   "metadata": {},
   "outputs": [
    {
     "name": "stdout",
     "output_type": "stream",
     "text": [
      "(200, 76)\n",
      "(300, 77)\n",
      "(400, 77)\n",
      "(500, 78)\n",
      "(600, 78)\n",
      "(700, 78)\n",
      "(800, 80)\n",
      "(900, 80)\n",
      "(1000, 80)\n",
      "(1100, 80)\n",
      "(1200, 80)\n",
      "(1300, 80)\n",
      "(1400, 80)\n",
      "(1500, 80)\n",
      "(1600, 80)\n",
      "(1700, 80)\n",
      "(1800, 80)\n",
      "(1900, 80)\n",
      "(2000, 80)\n",
      "(2100, 80)\n",
      "(2200, 80)\n",
      "(2300, 80)\n",
      "(2400, 80)\n",
      "(2500, 82)\n"
     ]
    }
   ],
   "source": [
    "counter = 1\n",
    "while counter < 25:\n",
    "    params = {\n",
    "        'subreddit': 'Feminism',\n",
    "        'size':100,\n",
    "        'before': utc\n",
    "        }\n",
    "    res = requests.get(api, params)\n",
    "    data = res.json()\n",
    "    data = pd.DataFrame(data['data'])\n",
    "    utc = data.iloc[-1]['created_utc']\n",
    "    fem = pd.concat([fem, data], axis = 0, ignore_index=False )\n",
    "    counter += 1\n",
    "    print(fem.shape) "
   ]
  },
  {
   "cell_type": "code",
   "execution_count": 20,
   "metadata": {},
   "outputs": [
    {
     "name": "stderr",
     "output_type": "stream",
     "text": [
      "<ipython-input-20-e962201f6a54>:3: SettingWithCopyWarning: \n",
      "A value is trying to be set on a copy of a slice from a DataFrame.\n",
      "Try using .loc[row_indexer,col_indexer] = value instead\n",
      "\n",
      "See the caveats in the documentation: https://pandas.pydata.org/pandas-docs/stable/user_guide/indexing.html#returning-a-view-versus-a-copy\n",
      "  fem_df['target'] = 1\n"
     ]
    },
    {
     "data": {
      "text/plain": [
       "(2500, 4)"
      ]
     },
     "execution_count": 20,
     "metadata": {},
     "output_type": "execute_result"
    }
   ],
   "source": [
    "fem_df = fem[['title','selftext', 'num_comments']]\n",
    "\n",
    "fem_df['target'] = 1\n",
    "\n",
    "fem_df.shape"
   ]
  },
  {
   "cell_type": "markdown",
   "metadata": {},
   "source": [
    "## Combining and Exporting"
   ]
  },
  {
   "cell_type": "code",
   "execution_count": 21,
   "metadata": {},
   "outputs": [
    {
     "data": {
      "text/plain": [
       "(5000, 4)"
      ]
     },
     "execution_count": 21,
     "metadata": {},
     "output_type": "execute_result"
    }
   ],
   "source": [
    "df = pd.concat([men_df, fem_df])\n",
    "df.shape"
   ]
  },
  {
   "cell_type": "code",
   "execution_count": 22,
   "metadata": {},
   "outputs": [
    {
     "data": {
      "text/html": [
       "<div>\n",
       "<style scoped>\n",
       "    .dataframe tbody tr th:only-of-type {\n",
       "        vertical-align: middle;\n",
       "    }\n",
       "\n",
       "    .dataframe tbody tr th {\n",
       "        vertical-align: top;\n",
       "    }\n",
       "\n",
       "    .dataframe thead th {\n",
       "        text-align: right;\n",
       "    }\n",
       "</style>\n",
       "<table border=\"1\" class=\"dataframe\">\n",
       "  <thead>\n",
       "    <tr style=\"text-align: right;\">\n",
       "      <th></th>\n",
       "      <th>title</th>\n",
       "      <th>selftext</th>\n",
       "      <th>num_comments</th>\n",
       "      <th>target</th>\n",
       "    </tr>\n",
       "  </thead>\n",
       "  <tbody>\n",
       "    <tr>\n",
       "      <th>0</th>\n",
       "      <td>Oh nooo..... 4% is soooo baaad</td>\n",
       "      <td></td>\n",
       "      <td>4</td>\n",
       "      <td>0</td>\n",
       "    </tr>\n",
       "    <tr>\n",
       "      <th>1</th>\n",
       "      <td>Black men matter</td>\n",
       "      <td>Now before you read the title and downvote, le...</td>\n",
       "      <td>1</td>\n",
       "      <td>0</td>\n",
       "    </tr>\n",
       "    <tr>\n",
       "      <th>2</th>\n",
       "      <td>This is beyond repulsive. India has one of the...</td>\n",
       "      <td></td>\n",
       "      <td>17</td>\n",
       "      <td>0</td>\n",
       "    </tr>\n",
       "    <tr>\n",
       "      <th>3</th>\n",
       "      <td>We should start caring about male domestic abu...</td>\n",
       "      <td>[removed]</td>\n",
       "      <td>0</td>\n",
       "      <td>0</td>\n",
       "    </tr>\n",
       "    <tr>\n",
       "      <th>4</th>\n",
       "      <td>Have you guys ever faced discrimination from t...</td>\n",
       "      <td>I was doing some research on healthcare discri...</td>\n",
       "      <td>1</td>\n",
       "      <td>0</td>\n",
       "    </tr>\n",
       "    <tr>\n",
       "      <th>...</th>\n",
       "      <td>...</td>\n",
       "      <td>...</td>\n",
       "      <td>...</td>\n",
       "      <td>...</td>\n",
       "    </tr>\n",
       "    <tr>\n",
       "      <th>95</th>\n",
       "      <td>At a time when tattoos were beyond stigmatized...</td>\n",
       "      <td></td>\n",
       "      <td>0</td>\n",
       "      <td>1</td>\n",
       "    </tr>\n",
       "    <tr>\n",
       "      <th>96</th>\n",
       "      <td>Can’t believe this is still a thing (my mom ha...</td>\n",
       "      <td></td>\n",
       "      <td>0</td>\n",
       "      <td>1</td>\n",
       "    </tr>\n",
       "    <tr>\n",
       "      <th>97</th>\n",
       "      <td>How is this still a thing? (My mom has been a ...</td>\n",
       "      <td></td>\n",
       "      <td>0</td>\n",
       "      <td>1</td>\n",
       "    </tr>\n",
       "    <tr>\n",
       "      <th>98</th>\n",
       "      <td>Random</td>\n",
       "      <td>[removed]</td>\n",
       "      <td>0</td>\n",
       "      <td>1</td>\n",
       "    </tr>\n",
       "    <tr>\n",
       "      <th>99</th>\n",
       "      <td>pictures like this&amp;gt;</td>\n",
       "      <td></td>\n",
       "      <td>0</td>\n",
       "      <td>1</td>\n",
       "    </tr>\n",
       "  </tbody>\n",
       "</table>\n",
       "<p>4881 rows × 4 columns</p>\n",
       "</div>"
      ],
      "text/plain": [
       "                                                title  \\\n",
       "0                      Oh nooo..... 4% is soooo baaad   \n",
       "1                                    Black men matter   \n",
       "2   This is beyond repulsive. India has one of the...   \n",
       "3   We should start caring about male domestic abu...   \n",
       "4   Have you guys ever faced discrimination from t...   \n",
       "..                                                ...   \n",
       "95  At a time when tattoos were beyond stigmatized...   \n",
       "96  Can’t believe this is still a thing (my mom ha...   \n",
       "97  How is this still a thing? (My mom has been a ...   \n",
       "98                                             Random   \n",
       "99                             pictures like this&gt;   \n",
       "\n",
       "                                             selftext  num_comments  target  \n",
       "0                                                                 4       0  \n",
       "1   Now before you read the title and downvote, le...             1       0  \n",
       "2                                                                17       0  \n",
       "3                                           [removed]             0       0  \n",
       "4   I was doing some research on healthcare discri...             1       0  \n",
       "..                                                ...           ...     ...  \n",
       "95                                                                0       1  \n",
       "96                                                                0       1  \n",
       "97                                                                0       1  \n",
       "98                                          [removed]             0       1  \n",
       "99                                                                0       1  \n",
       "\n",
       "[4881 rows x 4 columns]"
      ]
     },
     "execution_count": 22,
     "metadata": {},
     "output_type": "execute_result"
    }
   ],
   "source": [
    "df.drop_duplicates()"
   ]
  },
  {
   "cell_type": "code",
   "execution_count": 23,
   "metadata": {},
   "outputs": [
    {
     "data": {
      "text/plain": [
       "1    0.5\n",
       "0    0.5\n",
       "Name: target, dtype: float64"
      ]
     },
     "execution_count": 23,
     "metadata": {},
     "output_type": "execute_result"
    }
   ],
   "source": [
    "df['target'].value_counts(normalize  = True)"
   ]
  },
  {
   "cell_type": "code",
   "execution_count": 24,
   "metadata": {},
   "outputs": [],
   "source": [
    "#Exporting Data \n",
    "\n",
    "df.to_csv('data/scraping_data.csv', index=False)"
   ]
  },
  {
   "cell_type": "code",
   "execution_count": null,
   "metadata": {},
   "outputs": [],
   "source": []
  }
 ],
 "metadata": {
  "kernelspec": {
   "display_name": "Python 3",
   "language": "python",
   "name": "python3"
  },
  "language_info": {
   "codemirror_mode": {
    "name": "ipython",
    "version": 3
   },
   "file_extension": ".py",
   "mimetype": "text/x-python",
   "name": "python",
   "nbconvert_exporter": "python",
   "pygments_lexer": "ipython3",
   "version": "3.8.3"
  }
 },
 "nbformat": 4,
 "nbformat_minor": 4
}
